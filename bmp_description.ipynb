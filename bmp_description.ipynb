{
 "cells": [
  {
   "cell_type": "markdown",
   "metadata": {},
   "source": [
    "# Using ```bayesmixedlogit``` and ```bayesmixedlogitwtp``` in Stata\n",
    "\n",
    "This document presents an overview of the ```bayesmixedlogit``` and ```bayesmixedlogitwtp``` `Stata` packages. It mirrors closely the helpfile obtainable in ```Stata``` (i.e., through ``` help bayesmixedlogit``` or ```help bayesmixedlogitwtp```). Further background for the packages can be found in [Baker(2014)](https://www.stata-journal.com/article.html?article=st0354).\n",
    "\n"
   ]
  },
  {
   "cell_type": "markdown",
   "metadata": {},
   "source": [
    "## Description\n",
    "\n",
    "```bayesmixedlogit``` can be used to fit mixed logit models using Bayesian\n",
    "methods -- more precisely, ```bayesmixedlogit``` produces draws from the\n",
    "posterior parameter distribution and then presents summary and other\n",
    "statistics describing the results of the drawing. Detailed analysis of\n",
    "the draws is left to the discretion of the user. \n",
    "\n",
    "\n",
    "Implementation of `bayesmixedlogit` follows [Train (2009, chap. 12)](https://eml.berkeley.edu/books/choice2.html), and details of how the algorithm works are described\n",
    "in [Baker(2014)](https://www.stata-journal.com/article.html?article=st0354).  A diffuse prior for the mean values of the random coefficients is assumed, and the prior distribution\n",
    "    on the covariance matrix of random coefficients is taken to be an identity inverse Wishart.  ```bayesmixedlogit``` uses the\n",
    "    ```Mata``` routines ```amcmc()``` (if not installed: ```ssc install amcmc```) for adaptive Markov chain Monte Carlo sampling from the\n",
    "    posterior distribution of individual level coefficients and fixed coefficients.  The data setup for ```bayesmixedlogit``` is\n",
    "    the same as for ```clogit``` (```ssc install clogit```).  Much of the syntax follows that used by [Hole (2007)](https://www.stata-journal.com/article.html?article=st0133) in development of the command ```mixlogit```.\n"
   ]
  },
  {
   "cell_type": "markdown",
   "metadata": {},
   "source": [
    "## Options\n",
    "\n",
    "**```group```**(_`varname`_) specifies a numeric identifier variable for choice occasions.  **```group```**() is required.\n",
    "\n",
    "**```identifier```**(_`varname`_) identifies coefficient sets (those observations for which a set of coefficients apply).  Thus, when a person is observed making choices over multiple occasions, one would use **```group```**(_`varname`_) to specify the\n",
    "        choice occasions, while **`identifier`**(_`varname`_) would identify the person.  **`identifier`**() is required.\n",
    "\n",
    "**`rand`**(_`varlist`_) specifies independent variables with random coefficients.  The variables immediately following the dependent variable in the syntax are considered to have fixed coefficients (see the examples below).  While a model\n",
    "can be run without any independent variables with fixed coefficients, at least one random-coefficient independent variable is required for bayesmixedlogit to work.  **```rand```**() is required.\n",
    "\n",
    "**`draws`**(`#`) specifies the number of draws that are to be taken from the posterior distribution of the parameters.  The default is **`draws`**(`1000`).\n",
    "\n",
    "**`drawsrandom`**(#) is an advanced option.  The drawing algorithm treats each set of random coefficients as a Gibbs step in sampling from the joint posterior distribution of parameters.  In difficult, large-dimensional problems, it\n",
    "        might be desirable to let individual Gibbs steps run for more than one draw to achieve better mixing and convergence of the algorithm.\n",
    "\n",
    "**`drawsfixed`**(#) is a more advanced option.  The drawing algorithm treats fixed coefficients as a Gibbs step in sampling from the joint posterior distribution of parameters.  In difficult, large-dimensional problems, it might be\n",
    "        desirable to let this step in Gibbs sampling run for more than a single draw.  The default is **`drawsfixed(1)`**.\n",
    "\n",
    "**`burn`**(#) specifies the length of the burn-in period; the first # draws are discarded upon completion of the algorithm and before further results are computed.\n",
    "\n",
    "**`thin`**(#) specifies that only every #th draw is to be retained, so if thin(3) is specified, only every third draw is retained.  This option is designed to help ease autocorrelation in the resulting draws, as is the option jumble,\n",
    "        which randomly mixes draws.  Both options may be applied.\n",
    "\n",
    "**`araterandom`**(#) specifies the desired acceptance rate for random coefficients and should be a number between zero and one.  Because an adaptive acceptance-rejection method is used to sample random coefficients, by specifying the\n",
    "desired acceptance rate, the user has some control over adaptation of the algorithm to the problem.  The default is **`araterandom`**(.234).\n",
    "\n",
    "**`aratefixed`**(#) specifies the desired acceptance rate for fixed coefficients and works in the same fashion as **`araterandom(#)`**.\n",
    "\n",
    "**`samplerrandom`**(_`string`_) specifies the type of sampler that is to be used when random parameters are drawn.  It may be set to either global or mwg.  The default is **`samplerrandom`**(_`global`_), which means that proposed changes to random\n",
    "        parameters are drawn all at once.  If `mwg` -- an acronym for \"Metropolis within Gibbs\" -- is instead chosen, each random parameter is drawn separately as an independent step conditional on other random parameters in a nested\n",
    "        Gibbs step.  `mwg` might be useful in situations in which initial values are poorly scaled.  The workings of these options are described in greater detail in [Baker(2014)](https://www.stata-journal.com/article.html?article=st0354).\n",
    "\n",
    "**`samplerfixed`**(_`string`_) specifies the type of sampler that is used when fixed parameters are drawn.  Options are exactly as those described under **`samplerrandom`**(_`string`_).\n",
    "\n",
    "**`dampparmfixed`**(#) works exactly as option **dampparmrandom**(#) but is applied to drawing fixed parameters.\n",
    "\n",
    "**`dampparmrandom`**(#) is a parameter that controls how aggressively the proposal distributions for random parameters are adapted as drawing continues.  If the parameter is set close to one, adaptation is aggressive in its early phase\n",
    "        of trying to achieve the acceptance rate specified in **`araterandom`**(#).  If the parameter is set closer to zero, adaptation is more gradual.\n",
    "\n",
    "**`from`(_`rowvector`_) specifies a row vector of starting values for all parameters in order.  If these are not specified, starting values are obtained via estimation of a conditional logit model via **`clogit`**.\n",
    "\n",
    "**`fromvariance`**(_`matrix`_) specifies a matrix of starting values for the random parameters.\n",
    "\n",
    "**`jumble`** specifies to randomly mix draws.\n",
    "\n",
    "**`noisy`** specifies that a dot be produced every time a complete pass through the algorithm is finished.  After 50 iterations, a function value `ln_fc(p)` will be produced, which gives the joint log of the value of the posterior choice\n",
    "        probabilities evaluated at the latest parameters.  While `ln_fc(p)` is not an objective function per se, the author has found that drift in the value of this function indicates that the algorithm has not yet converged or has\n",
    "        other problems.\n",
    "\n",
    "**`saving`**(_`filename`_) specifies a location to store the draws from the distribution.  The file will contain just the draws after any burn-in period or thinning of values is applied.\n",
    "\n",
    "**replace** specifies that an existing file is to be overwritten.\n",
    "\n",
    "**append** specifies that an existing file is to be appended, which might be useful if multiple runs need to be combined.\n",
    "\n",
    "**`indsave`**(_`filename`_) specifies a file to which individual-level random parameters are to be saved. More precisely, **`indsave`**(_`filename`_) saves the draws of the individual-level parameters. Caution: For long runs and models with large\n",
    "        numbers of individuals, specifying this option can cause memory problems. Users should be careful how it is used and consult some of the examples before employing the option.\n",
    "\n",
    "**`indkeep`**(#) is for use with indsave and specifies that only the last # draws of the individual-level random parameters be kept. This helps avoid excessive memory consumption.\n",
    "\n",
    "**`indwide`** is for use with indsave and affords the user a degree of control over how individual-level parameters are saved. By default, individual-level parameters are saved in a panel form, meaning that each random parameter draw\n",
    "        is saved in a row, where draws are marked by the group identifier.  If instead the user would prefer that each row contain draws of each parameter, one could specify the indwide option, which saves all draws in a single row,\n",
    "        with the first entry of the row being the group identifier.  By analogy with `reshape`, by default draws are saved in \"long\" format, whereas **`indwide`** stores the draws in \"wide\" format.\n",
    "\n",
    "**`replaceind`** functions in the same way as replace, but in reference to the file specified in **`indsave`**.\n",
    "\n",
    "**`appendind`** functions in the same way as **`append`**, but in reference to the file specified in **`indsave`**.\n",
    "\n",
    "\n"
   ]
  },
  {
   "cell_type": "markdown",
   "metadata": {},
   "source": [
    "## Examples"
   ]
  },
  {
   "cell_type": "markdown",
   "metadata": {},
   "source": [
    "### Example 1\n",
    "\n",
    "A single random coefficient, one decision per group.  The random parameter acceptance rate is set to 0.4, and a total of 4,000 draws are taken.  The first 1,000 draws are dropped, and then every fifth draw is retained.  Draws are saved as\n",
    "    `choice_draws.dta`:\n"
   ]
  },
  {
   "cell_type": "code",
   "execution_count": 1,
   "metadata": {},
   "outputs": [
    {
     "name": "stdout",
     "output_type": "stream",
     "text": [
      "\n",
      "\n",
      "\n",
      "Contains data from http://www.stata-press.com/data/r14/choice.dta\n",
      "  obs:           885                          \n",
      " vars:             7                          2 Dec 2014 13:25\n",
      " size:         9,735                          \n",
      "--------------------------------------------------------------------------------\n",
      "              storage   display    value\n",
      "variable name   type    format     label      variable label\n",
      "--------------------------------------------------------------------------------\n",
      "id              int     %9.0g                 \n",
      "sex             byte    %9.0g      sex        \n",
      "income          float   %9.0g                 income in thousands\n",
      "car             byte    %9.0g      nation     nationality of car\n",
      "size            byte    %9.0g                 \n",
      "choice          byte    %9.0g                 ID's chosen car\n",
      "dealer          byte    %9.0g                 number of dealers of each\n",
      "                                                nationality in ID's city\n",
      "--------------------------------------------------------------------------------\n",
      "Sorted by: id\n"
     ]
    }
   ],
   "source": [
    "webuse choice\n",
    "describe"
   ]
  },
  {
   "cell_type": "code",
   "execution_count": 2,
   "metadata": {},
   "outputs": [
    {
     "name": "stdout",
     "output_type": "stream",
     "text": [
      "\n",
      "\n",
      "Bayesian Mixed Logit Model                         Observations    =       885\n",
      "                                                   Groups          =       295\n",
      "Acceptance rates:                                  Choices         =       295\n",
      " Fixed coefs              =                        Total draws     =      4000\n",
      " Random coefs(ave,min,max)= 0.239, 0.186, 0.285    Burn-in draws   =      1000\n",
      "                                                   *One of every 5 draws kept\n",
      "------------------------------------------------------------------------------\n",
      "      choice |      Coef.   Std. Err.      t    P>|t|     [95% Conf. Interval]\n",
      "-------------+----------------------------------------------------------------\n",
      "Random       |\n",
      "      dealer |   .2150072   .0360706     5.96   0.000     .1441673    .2858471\n",
      "-------------+----------------------------------------------------------------\n",
      "Cov_Random   |\n",
      "  var_dealer |   .1024538   .0322976     3.17   0.002     .0390238    .1658839\n",
      "------------------------------------------------------------------------------\n",
      "   Draws saved in choice_draws.dta\n",
      "\n",
      "\n",
      "   Attention!\n",
      "   *Results are presented to conform with Stata covention, but \n",
      "    are summary statistics of draws, not coefficient estimates. \n"
     ]
    }
   ],
   "source": [
    "bayesmixedlogit choice, rand(dealer) group(id) id(id) ///\n",
    "     draws(4000) burn(1000) thin(5) arater(.4) saving(choice_draws) replace"
   ]
  },
  {
   "cell_type": "markdown",
   "metadata": {},
   "source": [
    "### Example 2\n",
    "\n",
    "Fitting a mixed logit model using `bayesmixedlogit`, using the methods as described in [Long and Freese (2006, sec. 7.2.4)](https://www.stata-press.com/books/regression-models-categorical-dependent-variables/long3-brochure.pdf). The data must first be rendered into the correct format, which can be done using the command `case2alt`, which\n",
    "    is part of the package `spost9_ado`; if not installed, type `net install spost9_ado, from(https://jslsoc.sitehost.iu.edu/stata)` from the `Stata` prompt. The example first arranges the data and then generates and summarizes posterior draws from a mixed logit model. The model uses `bangladesh.dta`, which has information on contraceptive choice by a series of families.  Coefficients of explanatory variables vary at the district level.\n"
   ]
  },
  {
   "cell_type": "code",
   "execution_count": 3,
   "metadata": {},
   "outputs": [
    {
     "name": "stdout",
     "output_type": "stream",
     "text": [
      "\n",
      "\n",
      "\n",
      "Contains data from http://www.stata-press.com/data/r14/choice.dta\n",
      "  obs:           885                          \n",
      " vars:             7                          2 Dec 2014 13:25\n",
      " size:         9,735                          \n",
      "--------------------------------------------------------------------------------\n",
      "              storage   display    value\n",
      "variable name   type    format     label      variable label\n",
      "--------------------------------------------------------------------------------\n",
      "id              int     %9.0g                 \n",
      "sex             byte    %9.0g      sex        \n",
      "income          float   %9.0g                 income in thousands\n",
      "car             byte    %9.0g      nation     nationality of car\n",
      "size            byte    %9.0g                 \n",
      "choice          byte    %9.0g                 ID's chosen car\n",
      "dealer          byte    %9.0g                 number of dealers of each\n",
      "                                                nationality in ID's city\n",
      "--------------------------------------------------------------------------------\n",
      "Sorted by: id\n"
     ]
    }
   ],
   "source": [
    "webuse choice\n",
    "describe"
   ]
  },
  {
   "cell_type": "code",
   "execution_count": 4,
   "metadata": {},
   "outputs": [
    {
     "name": "stdout",
     "output_type": "stream",
     "text": [
      "\n",
      "(Bangladesh Fertility Survey, 1989)\n",
      "\n",
      "(note: variable _id used since case() not specified)\n",
      "(note: variable _altnum used since altnum() not specified)\n",
      "\n",
      "choice indicated by: choice\n",
      "case identifier: _id\n",
      "case-specific interactions: no* yes*\n"
     ]
    }
   ],
   "source": [
    "webuse bangladesh, clear\n",
    "case2alt, casevars(urban age) choice(c_use) gen(choice)"
   ]
  },
  {
   "cell_type": "code",
   "execution_count": 5,
   "metadata": {},
   "outputs": [
    {
     "name": "stdout",
     "output_type": "stream",
     "text": [
      "\n",
      "\n",
      "Bayesian Mixed Logit Model                         Observations    =      3868\n",
      "                                                   Groups          =        60\n",
      "Acceptance rates:                                  Choices         =      1934\n",
      " Fixed coefs              =                        Total draws     =     10000\n",
      " Random coefs(ave,min,max)= 0.310, 0.231, 0.354    Burn-in draws   =      5000\n",
      "-------------------------------------------------------------------------------\n",
      "       choice |      Coef.   Std. Err.      t    P>|t|     [95% Conf. Interval]\n",
      "--------------+----------------------------------------------------------------\n",
      "Random        |\n",
      "    yesXurban |   .7796584   .1905085     4.09   0.000     .4061781    1.153139\n",
      "      yesXage |   .0067593   .0329065     0.21   0.837    -.0577519    .0712706\n",
      "          yes |  -.7777077   .1154274    -6.74   0.000    -1.003996   -.5514193\n",
      "--------------+----------------------------------------------------------------\n",
      "Cov_Random    |\n",
      "var_yesXurban |   .9302604   .4088646     2.28   0.023     .1287065    1.731814\n",
      "cov_yesXurb~e |  -.0010909    .034572    -0.03   0.975    -.0688672    .0666853\n",
      "cov_yesXurb~s |  -.3946547    .225488    -1.75   0.080    -.8367101    .0474007\n",
      "  var_yesXage |   .0611443   .0120586     5.07   0.000     .0375042    .0847844\n",
      "cov_yesXage~s |   .0051727   .0258404     0.20   0.841    -.0454859    .0558313\n",
      "      var_yes |   .5352136   .1687242     3.17   0.002     .2044401    .8659871\n",
      "-------------------------------------------------------------------------------\n",
      "   Draws saved in bdesh_draws.dta\n",
      "\n",
      "\n",
      "   Attention!\n",
      "   *Results are presented to conform with Stata covention, but \n",
      "    are summary statistics of draws, not coefficient estimates. \n"
     ]
    }
   ],
   "source": [
    "bayesmixedlogit choice, rand(yesXurban yesXage yes) group(_id) id(district) ///\n",
    "     draws(10000) burn(5000) saving(bdesh_draws) replace"
   ]
  },
  {
   "cell_type": "markdown",
   "metadata": {},
   "source": [
    "Suppose one wished to save some values of individual-level random parameters, but that the problem has too many individuals or requires too many draws to get to convergence. A useful approach in these circumstances is to complete\n",
    "    a long first run without saving parameters, and then do a short second one using starting values. Suppose that the code in the previous example has been run. One can then run something to the effect of the following to get\n",
    "    individual parameters:"
   ]
  },
  {
   "cell_type": "code",
   "execution_count": 6,
   "metadata": {},
   "outputs": [],
   "source": [
    "mat b = e(b)\n",
    "mat beta = b[1, 1..3]\n",
    "mat V = b[1,4], b[1,5], b[1,6] \\ b[1,5], b[1,7], b[1,8] \\ b[1,6], b[1,7], b[1,9]"
   ]
  },
  {
   "cell_type": "code",
   "execution_count": 7,
   "metadata": {},
   "outputs": [
    {
     "name": "stdout",
     "output_type": "stream",
     "text": [
      "\n",
      "\n",
      "Bayesian Mixed Logit Model                         Observations    =      3868\n",
      "                                                   Groups          =        60\n",
      "Acceptance rates:                                  Choices         =      1934\n",
      " Fixed coefs              =                        Total draws     =       100\n",
      " Random coefs(ave,min,max)= 0.297, 0.160, 0.400    Burn-in draws   =         0\n",
      "-------------------------------------------------------------------------------\n",
      "       choice |      Coef.   Std. Err.      t    P>|t|     [95% Conf. Interval]\n",
      "--------------+----------------------------------------------------------------\n",
      "Random        |\n",
      "    yesXurban |   .7763147   .1041361     7.45   0.000     .5697116    .9829178\n",
      "      yesXage |   .0078787   .0344768     0.23   0.820    -.0605223    .0762797\n",
      "          yes |  -.7578993   .1074017    -7.06   0.000    -.9709811   -.5448174\n",
      "--------------+----------------------------------------------------------------\n",
      "Cov_Random    |\n",
      "var_yesXurban |   .3507105   .2150101     1.63   0.106    -.0758635    .7772845\n",
      "cov_yesXurb~e |  -.0014138   .0203943    -0.07   0.945    -.0418756    .0390479\n",
      "cov_yesXurb~s |  -.1896818    .140957    -1.35   0.181    -.4693365    .0899729\n",
      "  var_yesXage |   .0599069   .0127719     4.69   0.000     .0345679    .0852459\n",
      "cov_yesXage~s |   .0070305   .0200905     0.35   0.727    -.0328285    .0468896\n",
      "      var_yes |   .3150498   .1372705     2.30   0.024      .042709    .5873906\n",
      "-------------------------------------------------------------------------------\n",
      "   50 value(s) of individual-level random parameters saved in randpars.dta\n",
      "\n",
      "\n",
      "   Attention!\n",
      "   *Results are presented to conform with Stata covention, but \n",
      "    are summary statistics of draws, not coefficient estimates. \n"
     ]
    }
   ],
   "source": [
    "bayesmixedlogit choice, rand(yesXurban yesXage yes) group(_id) id(district) ///\n",
    "     from(beta) fromv(V) draws(100) indsave(randpars) indkeep(50) replaceind"
   ]
  },
  {
   "cell_type": "markdown",
   "metadata": {},
   "source": [
    "One post-estimation idea is to get the mean for parameter values by individuals, and fit some kernel density to the means to view the distribution of the individual-level parameters:"
   ]
  },
  {
   "cell_type": "code",
   "execution_count": 8,
   "metadata": {},
   "outputs": [
    {
     "data": {
      "image/png": "[encoded data removed]",
      "text/plain": [
       "This front-end cannot display the desired image type."
      ]
     },
     "metadata": {
      "image/png": {
       "height": 436,
       "width": 600
      }
     },
     "output_type": "display_data"
    },
    {
     "name": "stdout",
     "output_type": "stream",
     "text": [
      "\n",
      "\n",
      "\n",
      "\n",
      ".     global stata_kernel_graph_counter = $stata_kernel_graph_counter + 1\n"
     ]
    }
   ],
   "source": [
    "bysort district: egen myesXurban = mean(yesXurban)\n",
    "bysort district: gen last = _n == _N\n",
    "kdensity myesXurban if last\n",
    "graph display"
   ]
  },
  {
   "cell_type": "markdown",
   "metadata": {},
   "source": [
    "### Example 3\n",
    "\n",
    "Of course, it is possible to just do one run and retain all the information. As one final example:"
   ]
  },
  {
   "cell_type": "code",
   "execution_count": 9,
   "metadata": {},
   "outputs": [
    {
     "name": "stdout",
     "output_type": "stream",
     "text": [
      "\n",
      "(NLS Women 14-24 in 1968)\n",
      "\n",
      "(note: variable _id used since case() not specified)\n",
      "(note: variable _altnum used since altnum() not specified)\n",
      "\n",
      "choice indicated by: unionmember\n",
      "case identifier: _id\n",
      "case-specific interactions: y0* y1*\n",
      "\n",
      "\n",
      "\n",
      "Bayesian Mixed Logit Model                         Observations    =     52400\n",
      "                                                   Groups          =      4434\n",
      "Acceptance rates:                                  Choices         =     26200\n",
      " Fixed coefs              =                        Total draws     =      1000\n",
      " Random coefs(ave,min,max)= 0.221, 0.017, 0.339    Burn-in draws   =       800\n",
      "-------------------------------------------------------------------------------\n",
      "  unionmember |      Coef.   Std. Err.      t    P>|t|     [95% Conf. Interval]\n",
      "--------------+----------------------------------------------------------------\n",
      "Random        |\n",
      "       y0Xage |   .0427559   .0045651     9.37   0.000      .033754    .0517578\n",
      "     y0Xgrade |  -.0475095   .0097271    -4.88   0.000    -.0666903   -.0283288\n",
      "           y0 |   2.405118   .0067917   354.13   0.000     2.391726    2.418511\n",
      "--------------+----------------------------------------------------------------\n",
      "Cov_Random    |\n",
      "   var_y0Xage |   .0472717   .0030153    15.68   0.000     .0413258    .0532176\n",
      "cov_y0Xagey~e |   -.084886   .0067274   -12.62   0.000    -.0981517   -.0716203\n",
      " cov_y0Xagey0 |  -.0017989   .0019461    -0.92   0.356    -.0056365    .0020387\n",
      " var_y0Xgrade |   .2070458   .0164691    12.57   0.000     .1745704    .2395211\n",
      "cov_y0Xgrad~0 |  -.0031688   .0034891    -0.91   0.365     -.010049    .0037114\n",
      "       var_y0 |   .0808648   .0067269    12.02   0.000     .0676001    .0941296\n",
      "-------------------------------------------------------------------------------\n",
      "   Draws saved in parm_draws.dta\n",
      "   20 value(s) of individual-level random parameters saved in indparm_draws.dta\n",
      "\n",
      "\n",
      "   Attention!\n",
      "   *Results are presented to conform with Stata covention, but \n",
      "    are summary statistics of draws, not coefficient estimates. \n"
     ]
    }
   ],
   "source": [
    "webuse union, clear\n",
    "case2alt, casevars(age grade) choice(union) gen(unionmember)\n",
    "bayesmixedlogit unionmember, rand(y0Xage y0Xgrade y0) group(_id) id(idcode) ///\n",
    "     draws(1000) burn(800) saving(parm_draws) indsave(indparm_draws) indkeep(20) replaceind replace"
   ]
  },
  {
   "cell_type": "markdown",
   "metadata": {},
   "source": [
    "### Stored results\n",
    "\n",
    "**`bayesmixedlogit`** stores the following in e():\n",
    "\n",
    "#### Scalars        \n",
    "\n",
    "**`e`**(`N`)                number of observations\n",
    "\n",
    "**`e`**(`df_r`)             degrees of freedom for summarizing draws (equal to number of retained draws)\n",
    "\n",
    "**`e`**(`krnd`)             number of random parameters\n",
    "\n",
    "**`e`**(`kfix`)             number of fixed parameters\n",
    "\n",
    "**`e`**(`draws`)            number of draws\n",
    "\n",
    "**`e`**(`burn`)            burn-in observations\n",
    "\n",
    "**`e`**(`thin`)             thinning parameter\n",
    "\n",
    "**`e`**(`random_draws`)     number of draws of each set of random parameters per pass\n",
    "\n",
    "**`e`**(`fixed_draws`)      number of draws of fixed parameters per pass\n",
    "\n",
    "**`e`**(`damper_fixed`)     damping parameter -- fixed parameters\n",
    "\n",
    "**`e`**(`damper_random`)    damping parameter -- random parameters\n",
    "\n",
    "**`e`**(`opt_arate_fixed`)  desired acceptance rate -- fixed parameters\n",
    "\n",
    "**`e`**(`opt_arate_random`) desired acceptance rate -- random parameters\n",
    "\n",
    "**`e`**(`N_groups`)         number of groups\n",
    "\n",
    "**`e`**(`N_choices`)        number of choice occasions\n",
    "\n",
    "**`e`**(`arates_fa`)        acceptance rate -- fixed parameters\n",
    "\n",
    "**`e`**(`arates_ra`)        average acceptance rate -- random parameters\n",
    "\n",
    "**`e`**(`arates_rmax`)      maximum acceptance rate -- random parameters\n",
    "\n",
    "**`e`**(`arates_rmin`)      minimum acceptance rate -- random parameters\n",
    "\n",
    "**`e`**(`inddraws`)         draws of individual parameters kept\n",
    "\n",
    "#### Macros         \n",
    "\n",
    "**`e`**(`cmd`)              **`bayesmixedlogit`**\n",
    "\n",
    "**`e`**(`depvar`)           name of dependent variable\n",
    "\n",
    "**`e`**(`indepvars`)        independent variables\n",
    "\n",
    "**`e`**(`title`)            title in estimation output\n",
    "\n",
    "**`e`**(`properties`)       b V\n",
    "\n",
    "**`e`**(`saving`)           file containing results\n",
    "\n",
    "**`e`**(`fixed_sampler`)    sampler type for fixed parameters\n",
    "\n",
    "**`e`**(`random_sampler`)   sampler type for random parameters\n",
    "\n",
    "**`e`**(`random`)           random parameter names\n",
    "\n",
    "**`e`**(`fixed`)            fixed parameter names\n",
    "\n",
    "**`e`**(`identifier`)       identifier for individuals\n",
    "\n",
    "**`e`**(`group`)            identifier for choice occasions\n",
    "\n",
    "**`e`**(`indsave`)          file holding individual-level parameter draws\n",
    "\n",
    "#### Matrices       \n",
    "\n",
    "**`e`**(`b`)                mean parameter values\n",
    "\n",
    "**`e`**(`V`)                variance-covariance matrix of parameters\n",
    "\n",
    "**`e`**(`V_init`)           initial variance-covariance matrix of random parameters\n",
    "\n",
    "**`e`**(`b_init`)           initial mean vector of random parameters\n",
    "\n",
    "**`e`**(`arates_fixed`)     row vector of acceptance rates of fixed parameters\n",
    "\n",
    "**`e`**(`arates_rand`)      vector or matrix of acceptance rates of random parameters\n",
    "\n",
    "#### Functions      \n",
    "\n",
    "**`e`**(`sample`)           marks estimation sample\n",
    "\n"
   ]
  },
  {
   "cell_type": "markdown",
   "metadata": {},
   "source": [
    "## `bayesmixedlogitwtp`\n",
    "\n",
    "`bayesmixedlogitwtp` is essentially a wrapper for `bayesmixedlogit`, with a transformation of the coefficient on a price variable. The defining characteristic of the WTP-space mixed logit model is normalization of coefficients using the (random) coefficient on a designated price variable, as described in [Train and Weeks (2005)](https://link.springer.com/chapter/10.1007/1-4020-3684-1_1), [Scarpa, Thiene, and Train (2008)](https://econpapers.repec.org/article/oupajagec/v_3a90_3ay_3a2008_3ai_3a4_3ap_3a994-1010.htm), and [Hole and Kolstad (2012)](https://link.springer.com/article/10.1007/s00181-011-0500-1).\n",
    "\n",
    "The model assumes that the coefficient on the price variable follows (the negative of) a log-normal distribution.  Hence, if the estimated parameter is **`b`**, the price variable has coefficient **`-exp(b)`**. The transformed coefficient is saved and displayed as part of the output, but as presented the saved and display value is the negative of the exponentiated average value of b, not the average of the value **`-exp(b)`**.\n",
    "\n",
    "## Options\n",
    "\n",
    "All options for `bayesmixedlogitwtp` are the same as `bayesmixedlogit`, with the following additional option:\n",
    "\n",
    "**```price```**(_`varname`_) specifies a numeric identifier variable for price occasions.  **```price```**() is required.\n",
    "\n",
    "\n",
    "### Stored results\n",
    "\n",
    "In addition to all the scalars, macros, and matrices stored by `bayesmixedlogit`, `bayesmixedlogitwtp` adds the following additional macros:\n",
    "\n",
    "#### Scalars\n",
    "\n",
    "`e(price_coef)` - exponent of mean of estimated coefficient on price variable\n",
    "\n",
    "#### Macros\n",
    "\n",
    "`e(pricevar)` - name of price variable\n",
    " \n",
    " ### Example 4"
   ]
  },
  {
   "cell_type": "markdown",
   "metadata": {},
   "source": [
    "The following example mirrors examples provided of usage of the mixlogitwtp command (with thanks to Arne Rise Hole for allowing use of the example):\n",
    "\n"
   ]
  },
  {
   "cell_type": "code",
   "execution_count": 10,
   "metadata": {},
   "outputs": [
    {
     "name": "stdout",
     "output_type": "stream",
     "text": [
      "\n",
      "\n",
      "\n",
      "Contains data from http://fmwww.bc.edu/repec/bocode/t/traindata.dta\n",
      "  obs:         4,780                          \n",
      " vars:             9                          28 Nov 2006 18:40\n",
      " size:        52,580                          \n",
      "--------------------------------------------------------------------------------\n",
      "              storage   display    value\n",
      "variable name   type    format     label      variable label\n",
      "--------------------------------------------------------------------------------\n",
      "y               byte    %8.0g                 \n",
      "price           byte    %8.0g                 \n",
      "contract        byte    %8.0g                 \n",
      "local           byte    %8.0g                 \n",
      "wknown          byte    %8.0g                 \n",
      "tod             byte    %8.0g                 \n",
      "seasonal        byte    %8.0g                 \n",
      "gid             int     %8.0g                 \n",
      "pid             int     %9.0g                 \n",
      "--------------------------------------------------------------------------------\n",
      "Sorted by: \n",
      "\n",
      "\n",
      "\n",
      "Bayesian Mixed Logit Model - WTP Form              Observations    =      4780\n",
      "                                                   Groups          =       100\n",
      "Acceptance rates:                                  Choices         =      1195\n",
      " Fixed coefs              = 0.290                  Total draws     =      4000\n",
      " Random coefs(ave,min,max)= 0.214, 0.164, 0.260    Burn-in draws   =      1000\n",
      "                                                   *One of every 5 draws kept\n",
      "-------------------------------------------------------------------------------\n",
      "            y |      Coef.   Std. Err.      t    P>|t|     [95% Conf. Interval]\n",
      "--------------+----------------------------------------------------------------\n",
      "Fixed         |\n",
      "     contract |   -.249242   .0298574    -8.35   0.000    -.3078797   -.1906042\n",
      "        local |   2.425951   .2125614    11.41   0.000     2.008497    2.843406\n",
      "       wknown |   1.741476   .1599273    10.89   0.000     1.427391    2.055562\n",
      "--------------+----------------------------------------------------------------\n",
      "Random        |\n",
      "        price |  -.3333228   .0947416    -3.52   0.000    -.5193883   -.1472574\n",
      "     seasonal |  -9.779766   .3131075   -31.23   0.000    -10.39469   -9.164847\n",
      "          tod |  -9.612307   .3512882   -27.36   0.000    -10.30221   -8.922403\n",
      "--------------+----------------------------------------------------------------\n",
      "Cov_Random    |\n",
      "    var_price |   .2942746   .0795158     3.70   0.000     .1381115    .4504377\n",
      "cov_pricese~l |  -.2675019   .2485057    -1.08   0.282    -.7555485    .2205448\n",
      " cov_pricetod |  -.4965004   .2658258    -1.87   0.062    -1.018562    .0255617\n",
      " var_seasonal |   5.859335   1.728996     3.39   0.001     2.463715    9.254955\n",
      "cov_seasona~d |   4.173949   1.390441     3.00   0.003     1.443226    6.904672\n",
      "      var_tod |   7.391194   1.994975     3.70   0.000     3.473211    11.30918\n",
      "-------------------------------------------------------------------------------\n",
      "   Draws saved in draws.dta\n",
      "The price variable is price with transformed coef (-exp(b)): -0.779\n",
      "\n",
      "\n",
      "   Attention!\n",
      "   *Results are presented to conform with Stata covention, but \n",
      "    are summary statistics of draws, not coefficient estimates. \n"
     ]
    }
   ],
   "source": [
    "use http://fmwww.bc.edu/repec/bocode/t/traindata.dta, clear\n",
    "describe\n",
    "\n",
    "bayesmixedlogitwtp y contract local wknown, group(gid) id(pid) price(price) ///\n",
    "     rand(seasonal tod) draws(4000) burn(1000) thin(5) arater(.4) saving(draws) replace"
   ]
  },
  {
   "cell_type": "markdown",
   "metadata": {},
   "source": [
    "### Example 5\n",
    "\n",
    "A case in which all coefficients are random:"
   ]
  },
  {
   "cell_type": "code",
   "execution_count": 11,
   "metadata": {},
   "outputs": [
    {
     "name": "stdout",
     "output_type": "stream",
     "text": [
      "\n",
      "\n",
      "Bayesian Mixed Logit Model - WTP Form              Observations    =      4780\n",
      "                                                   Groups          =       100\n",
      "Acceptance rates:                                  Choices         =      1195\n",
      " Fixed coefs              =                        Total draws     =      2000\n",
      " Random coefs(ave,min,max)= 0.152, 0.068, 0.237    Burn-in draws   =      1000\n",
      "                                                   *One of every 5 draws kept\n",
      "-------------------------------------------------------------------------------\n",
      "            y |      Coef.   Std. Err.      t    P>|t|     [95% Conf. Interval]\n",
      "--------------+----------------------------------------------------------------\n",
      "Random        |\n",
      "        price |  -.6533948   .1186226    -5.51   0.000    -.8873062   -.4194833\n",
      "     seasonal |  -9.684424   .4084787   -23.71   0.000     -10.4899   -8.878947\n",
      "          tod |  -9.844531   .4323386   -22.77   0.000    -10.69706   -8.992004\n",
      "       wknown |   .9696596   .2220143     4.37   0.000     .5318704    1.407449\n",
      "--------------+----------------------------------------------------------------\n",
      "Cov_Random    |\n",
      "    var_price |   .7395054   .2301116     3.21   0.002     .2857491    1.193262\n",
      "cov_pricese~l |  -.4428133   .4570225    -0.97   0.334    -1.344014    .4583876\n",
      " cov_pricetod |  -.4947435   .5077538    -0.97   0.331    -1.495981    .5064943\n",
      "cov_pricewk~n |  -.2005007   .2009999    -1.00   0.320    -.5968516    .1958502\n",
      " var_seasonal |   7.062787   2.070746     3.41   0.001     2.979491    11.14608\n",
      "cov_seasona~d |   5.437463   1.669412     3.26   0.001     2.145556    8.729371\n",
      "cov_seasona~n |  -.8402783   .5547666    -1.51   0.131     -1.93422    .2536639\n",
      "      var_tod |   9.310019   2.347582     3.97   0.000      4.68083    13.93921\n",
      "cov_todwknown |  -1.204763   .5393129    -2.23   0.027    -2.268232   -.1412935\n",
      "   var_wknown |   .9792376   .2518897     3.89   0.000     .4825372    1.475938\n",
      "-------------------------------------------------------------------------------\n",
      "   Draws saved in draws.dta\n",
      "The price variable is price with transformed coef (-exp(b)): -0.520\n",
      "\n",
      "\n",
      "   Attention!\n",
      "   *Results are presented to conform with Stata covention, but \n",
      "    are summary statistics of draws, not coefficient estimates. \n"
     ]
    }
   ],
   "source": [
    "bayesmixedlogitwtp y, group(gid) id(pid) price(price) rand(seasonal tod wknown) ///\n",
    "     draws(2000) burn(1000) thin(5) arater(.4) saving(draws) replace"
   ]
  },
  {
   "cell_type": "markdown",
   "metadata": {},
   "source": [
    "Looking at the distribution of draws for the `price` variable: "
   ]
  },
  {
   "cell_type": "code",
   "execution_count": 12,
   "metadata": {},
   "outputs": [
    {
     "name": "stdout",
     "output_type": "stream",
     "text": [
      "\n",
      "\n",
      "\n",
      "Contains data from draws.dta\n",
      "  obs:           200                          \n",
      " vars:            16                          1 Mar 2021 08:53\n",
      " size:        12,800                          \n",
      "--------------------------------------------------------------------------------\n",
      "              storage   display    value\n",
      "variable name   type    format     label      variable label\n",
      "--------------------------------------------------------------------------------\n",
      "price           float   %10.0g                \n",
      "seasonal        float   %10.0g                \n",
      "tod             float   %10.0g                \n",
      "wknown          float   %10.0g                \n",
      "var_price       float   %10.0g                \n",
      "cov_priceseas~l float   %10.0g                \n",
      "cov_pricetod    float   %10.0g                \n",
      "cov_pricewknown float   %10.0g                \n",
      "var_seasonal    float   %10.0g                \n",
      "cov_seasonaltod float   %10.0g                \n",
      "cov_seasonalw~n float   %10.0g                \n",
      "var_tod         float   %10.0g                \n",
      "cov_todwknown   float   %10.0g                \n",
      "var_wknown      float   %10.0g                \n",
      "fun_val         float   %10.0g                \n",
      "t               float   %9.0g                 \n",
      "--------------------------------------------------------------------------------\n",
      "Sorted by: \n",
      "\n",
      "(bin=14, start=-.98271137, width=.05126763)\n"
     ]
    },
    {
     "data": {
      "image/png": "[encoded data removed]",
      "text/plain": [
       "This front-end cannot display the desired image type."
      ]
     },
     "metadata": {
      "image/png": {
       "height": 436,
       "width": 600
      }
     },
     "output_type": "display_data"
    },
    {
     "name": "stdout",
     "output_type": "stream",
     "text": [
      "\n",
      ".     global stata_kernel_graph_counter = $stata_kernel_graph_counter + 1\n"
     ]
    }
   ],
   "source": [
    "use draws, clear\n",
    "describe\n",
    "hist price\n",
    "graph display"
   ]
  },
  {
   "cell_type": "markdown",
   "metadata": {},
   "source": [
    "## References\n",
    "\n",
    "\n",
    "Baker, M. J. 2014. _Adaptive Markov chain Monte Carlo sampling and estimation in `Mata`_. **Stata Journal** 14: 623-61.\n",
    "\n",
    "Gelman, A., J. B. Carlin, H. S. Stern, and D. B. Rubin. 2009. **Bayesian data analysis**. 2nd. ed. Boca Raton, FL: Chapman & Hall/CRC.\n",
    "\n",
    "Hole, A. R. 2007. _Fitting mixed logit models by using maximum simulated likelihood_. **Stata Journal** 7: 388-401.\n",
    "\n",
    "Hole, A. R. and J. R. Kolstad. 2012. _Mixed logit estimation of willingness to pay distributions:  a comparison of models in preference and WTP space using data from a health-related choice experiment_. **Empirical Economics** 42: 445-469.\n",
    "\n",
    "\n",
    "Long, J. S., and J. Freese. 2006. **Regression Models for Categorical Dependent Variables Using Stata**. 2nd ed. College Station, TX: Stata Press.\n",
    "\n",
    "R. Scarpa, M. Thiene, and K. Train. 2008. _Utility in willingness to pay space: A tool to address confounding random scale effects in destination choice to the Alps_.  **American Journal of Agricultural Economics** 90: 994-1010.\n",
    "\n",
    "Train, K. E. 2009. **Discrete Choice Methods with Simulation**. 2nd ed. Cambridge: Cambridge University Press.\n",
    "\n",
    "Train, K. E. and M. Weeks. 2005. _Discrete choice models in preference space and willingness-to-pay space_. In: Scarpa R, Alberini A (eds), **Application of simulation methods in environmental and resource economics**. Springer, Dordrecht, pp 1-16.\n"
   ]
  }
 ],
 "metadata": {
  "kernelspec": {
   "display_name": "Stata",
   "language": "stata",
   "name": "stata"
  },
  "language_info": {
   "codemirror_mode": "stata",
   "file_extension": ".do",
   "mimetype": "text/x-stata",
   "name": "stata",
   "version": "15.1"
  }
 },
 "nbformat": 4,
 "nbformat_minor": 4
}
